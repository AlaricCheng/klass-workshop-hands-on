{
  "metadata": {
    "kernelspec": {
      "name": "python",
      "display_name": "Python (Pyodide)",
      "language": "python"
    },
    "language_info": {
      "codemirror_mode": {
        "name": "python",
        "version": 3
      },
      "file_extension": ".py",
      "mimetype": "text/x-python",
      "name": "python",
      "nbconvert_exporter": "python",
      "pygments_lexer": "ipython3",
      "version": "3.8"
    }
  },
  "nbformat_minor": 4,
  "nbformat": 4,
  "cells": [
    {
      "cell_type": "markdown",
      "source": "# Klass Worhshop Tutorial",
      "metadata": {}
    },
    {
      "cell_type": "markdown",
      "source": "This is the tutorial file for Klass workshop, including more detailed illustrations and code demos.",
      "metadata": {}
    },
    {
      "cell_type": "markdown",
      "source": "## Prerequisite",
      "metadata": {}
    },
    {
      "cell_type": "markdown",
      "source": "Before we start our journey, let's first get to know some basic concepts of quantum computation and quantum programming.",
      "metadata": {}
    },
    {
      "cell_type": "markdown",
      "source": "### Quantum state",
      "metadata": {}
    },
    {
      "cell_type": "markdown",
      "source": "- zero, one state\n- Plus state\n- random state\n- ...",
      "metadata": {}
    },
    {
      "cell_type": "markdown",
      "source": "### Quantum gate",
      "metadata": {}
    },
    {
      "cell_type": "markdown",
      "source": "#### Single qubit gate\n- Pauli gates\n- Hadamard gate\n- rotational gate (parameterized)\n#### Two qubit gate\n- CNOT gate",
      "metadata": {}
    },
    {
      "cell_type": "markdown",
      "source": "## Quantum circuit",
      "metadata": {}
    },
    {
      "cell_type": "markdown",
      "source": "### Bell state preparation",
      "metadata": {}
    },
    {
      "cell_type": "markdown",
      "source": "### Teleportation",
      "metadata": {}
    },
    {
      "cell_type": "markdown",
      "source": "### Variational circuit",
      "metadata": {}
    },
    {
      "cell_type": "markdown",
      "source": "## Quantum measurement",
      "metadata": {}
    },
    {
      "cell_type": "markdown",
      "source": "- Block sphere\n- projective measurements, POVM\n- computational basis\n- random basis\n\n- Measurement statistics\n- Expectation values",
      "metadata": {}
    },
    {
      "cell_type": "markdown",
      "source": "## Quantum algorithms",
      "metadata": {}
    },
    {
      "cell_type": "markdown",
      "source": "### Grover \n- background, problem statement\n- oracles\n- circuit\n- demo",
      "metadata": {}
    },
    {
      "cell_type": "markdown",
      "source": "### QAOA\n- MaxCut problem\n- Quantum neural networks\n- Framework\n- Optimization, gradient descend\n- Code demo",
      "metadata": {}
    },
    {
      "cell_type": "code",
      "source": "",
      "metadata": {
        "trusted": true
      },
      "outputs": [],
      "execution_count": null
    },
    {
      "cell_type": "code",
      "source": "",
      "metadata": {
        "trusted": true
      },
      "outputs": [],
      "execution_count": null
    },
    {
      "cell_type": "code",
      "source": "",
      "metadata": {
        "trusted": true
      },
      "outputs": [],
      "execution_count": null
    },
    {
      "cell_type": "code",
      "source": "",
      "metadata": {
        "trusted": true
      },
      "outputs": [],
      "execution_count": null
    },
    {
      "cell_type": "code",
      "source": "",
      "metadata": {
        "trusted": true
      },
      "outputs": [],
      "execution_count": null
    },
    {
      "cell_type": "code",
      "source": "",
      "metadata": {
        "trusted": true
      },
      "outputs": [],
      "execution_count": null
    },
    {
      "cell_type": "code",
      "source": "",
      "metadata": {
        "trusted": true
      },
      "outputs": [],
      "execution_count": null
    },
    {
      "cell_type": "code",
      "source": "",
      "metadata": {
        "trusted": true
      },
      "outputs": [],
      "execution_count": null
    },
    {
      "cell_type": "code",
      "source": "",
      "metadata": {
        "trusted": true
      },
      "outputs": [],
      "execution_count": null
    },
    {
      "cell_type": "code",
      "source": "",
      "metadata": {
        "trusted": true
      },
      "outputs": [],
      "execution_count": null
    },
    {
      "cell_type": "code",
      "source": "",
      "metadata": {
        "trusted": true
      },
      "outputs": [],
      "execution_count": null
    },
    {
      "cell_type": "code",
      "source": "",
      "metadata": {
        "trusted": true
      },
      "outputs": [],
      "execution_count": null
    }
  ]
}