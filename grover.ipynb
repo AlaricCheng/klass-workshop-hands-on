{
 "cells": [
  {
   "cell_type": "markdown",
   "id": "db78a668",
   "metadata": {},
   "source": [
    "# Grover search algorithm"
   ]
  },
  {
   "cell_type": "markdown",
   "id": "68b0087e-a087-4009-85c0-c0bdd08233cd",
   "metadata": {},
   "source": [
    "In this section, we introduce Grover's search algorithm and how it can be used to solve unstructured search problems. We then implement Grover's algorithm on actual problems using Qiskit, run on a simulator and an actual quantum device.\n",
    "\n",
    "\n",
    "## Contents\n",
    "\n",
    "1. [Introduction](#introduction)      \n",
    "2. [Setup](#setup)    \n",
    "3. [Algorithm](#algorithm)     \n",
    "   3.1 [Prepare the initial state](#algPrepare)    \n",
    "   3.2 [Implement an oracle that can access the function $f(x)$ as a reflection](#algGrover)    \n",
    "   3.3 [Apply the Grover diffusion operator](#algDiffusion)    \n",
    "   3.4 [Repeat steps 2 and 3 approximately $\\frac{\\pi}{4}\\sqrt{N}$ times and perform measurements](#algRepeat)    \n",
    "   3.5 [Run the program with simulators and quantum devices](#algExecute)    \n",
    "4. [References](#references)\n"
   ]
  },
  {
   "cell_type": "markdown",
   "id": "e57d1e6b",
   "metadata": {},
   "source": [
    "## Introduction <a id='introduction'></a>\n",
    "\n",
    "In mathematical terms, [Grover’s algorithm](https://arxiv.org/abs/quant-ph/9605043) was the first to demonstrate a quantum speedup on unstructured search problems. Denote $N=2^n$ as the data size and $n$ as the qubit number. An oracle function $f(x)$ is defined with $f(x_0)=1$ for an unknown $x_0$ and $f(x)=0$ for all other values of $x$ such that\n",
    "$$\\begin{cases} f(x)= f(x_0)= 1, \\text{ for } x = x_0, \\\\ f(x)=0, \\text{ for } x \\neq x_0. \\end{cases}$$\n",
    "\n",
    "\n",
    "\n",
    "Grover search algorithm is a quantum algorithm for finding the input value $x_0$. The advantage of the algorithm is that when the Oracle function has $N$ possible input values, the algorithm only requires $\\mathcal{O}(\\sqrt{N})$ evaluations of the Oracle, while the best classical algorithm needs $\\mathcal{O}(N)$ evaluations. In this tutorial, we are going to implement a search for an n-bit string item using a quantum circuit based on Grover’s Algorithm. Formulating Grover's search problem requires an oracle function that marks one or more computational basis states as the states we are interested in finding, and an amplitude amplification circuit that increases the amplitude of marked states, consequently suppressing the remaining states. "
   ]
  },
  {
   "cell_type": "markdown",
   "id": "54602708",
   "metadata": {},
   "source": [
    "## Setup  <a id='setup'></a>\n",
    "\n",
    "First we use `pip` to install the packages that are required for this tutorial: `qiskit`, `pylatexenc`, `qiskit-aer`, and `qiskit-ibm-provider`."
   ]
  },
  {
   "cell_type": "code",
   "execution_count": 1,
   "id": "f3f4e8a3-e6ae-4bcc-a5e7-21763ed2592a",
   "metadata": {
    "tags": []
   },
   "outputs": [
    {
     "name": "stdout",
     "output_type": "stream",
     "text": [
      "Requirement already satisfied: qiskit in d:\\anaconda\\lib\\site-packages (0.45.2)\n",
      "Requirement already satisfied: qiskit-terra==0.45.2 in d:\\anaconda\\lib\\site-packages (from qiskit) (0.45.2)\n",
      "Requirement already satisfied: rustworkx>=0.13.0 in d:\\anaconda\\lib\\site-packages (from qiskit-terra==0.45.2->qiskit) (0.13.2)\n",
      "Requirement already satisfied: numpy<2,>=1.17 in d:\\anaconda\\lib\\site-packages (from qiskit-terra==0.45.2->qiskit) (1.24.3)\n",
      "Requirement already satisfied: ply>=3.10 in d:\\anaconda\\lib\\site-packages (from qiskit-terra==0.45.2->qiskit) (3.11)\n",
      "Requirement already satisfied: psutil>=5 in d:\\anaconda\\lib\\site-packages (from qiskit-terra==0.45.2->qiskit) (5.9.0)\n",
      "Requirement already satisfied: scipy>=1.5 in d:\\anaconda\\lib\\site-packages (from qiskit-terra==0.45.2->qiskit) (1.11.1)\n",
      "Requirement already satisfied: sympy>=1.3 in d:\\anaconda\\lib\\site-packages (from qiskit-terra==0.45.2->qiskit) (1.11.1)\n",
      "Requirement already satisfied: dill>=0.3 in d:\\anaconda\\lib\\site-packages (from qiskit-terra==0.45.2->qiskit) (0.3.6)\n",
      "Requirement already satisfied: python-dateutil>=2.8.0 in d:\\anaconda\\lib\\site-packages (from qiskit-terra==0.45.2->qiskit) (2.8.2)\n",
      "Requirement already satisfied: stevedore>=3.0.0 in d:\\anaconda\\lib\\site-packages (from qiskit-terra==0.45.2->qiskit) (5.1.0)\n",
      "Requirement already satisfied: six>=1.5 in d:\\anaconda\\lib\\site-packages (from python-dateutil>=2.8.0->qiskit-terra==0.45.2->qiskit) (1.16.0)\n",
      "Requirement already satisfied: pbr!=2.1.0,>=2.0.0 in d:\\anaconda\\lib\\site-packages (from stevedore>=3.0.0->qiskit-terra==0.45.2->qiskit) (6.0.0)\n",
      "Requirement already satisfied: mpmath>=0.19 in d:\\anaconda\\lib\\site-packages (from sympy>=1.3->qiskit-terra==0.45.2->qiskit) (1.3.0)\n",
      "Requirement already satisfied: pylatexenc in d:\\anaconda\\lib\\site-packages (2.10)\n",
      "Requirement already satisfied: qiskit-aer in d:\\anaconda\\lib\\site-packages (0.13.2)\n",
      "Requirement already satisfied: qiskit>=0.45.0 in d:\\anaconda\\lib\\site-packages (from qiskit-aer) (0.45.2)\n",
      "Requirement already satisfied: numpy>=1.16.3 in d:\\anaconda\\lib\\site-packages (from qiskit-aer) (1.24.3)\n",
      "Requirement already satisfied: scipy>=1.0 in d:\\anaconda\\lib\\site-packages (from qiskit-aer) (1.11.1)\n",
      "Requirement already satisfied: psutil>=5 in d:\\anaconda\\lib\\site-packages (from qiskit-aer) (5.9.0)\n",
      "Requirement already satisfied: qiskit-terra==0.45.2 in d:\\anaconda\\lib\\site-packages (from qiskit>=0.45.0->qiskit-aer) (0.45.2)\n",
      "Requirement already satisfied: rustworkx>=0.13.0 in d:\\anaconda\\lib\\site-packages (from qiskit-terra==0.45.2->qiskit>=0.45.0->qiskit-aer) (0.13.2)\n",
      "Requirement already satisfied: ply>=3.10 in d:\\anaconda\\lib\\site-packages (from qiskit-terra==0.45.2->qiskit>=0.45.0->qiskit-aer) (3.11)\n",
      "Requirement already satisfied: sympy>=1.3 in d:\\anaconda\\lib\\site-packages (from qiskit-terra==0.45.2->qiskit>=0.45.0->qiskit-aer) (1.11.1)\n",
      "Requirement already satisfied: dill>=0.3 in d:\\anaconda\\lib\\site-packages (from qiskit-terra==0.45.2->qiskit>=0.45.0->qiskit-aer) (0.3.6)\n",
      "Requirement already satisfied: python-dateutil>=2.8.0 in d:\\anaconda\\lib\\site-packages (from qiskit-terra==0.45.2->qiskit>=0.45.0->qiskit-aer) (2.8.2)\n",
      "Requirement already satisfied: stevedore>=3.0.0 in d:\\anaconda\\lib\\site-packages (from qiskit-terra==0.45.2->qiskit>=0.45.0->qiskit-aer) (5.1.0)\n",
      "Requirement already satisfied: six>=1.5 in d:\\anaconda\\lib\\site-packages (from python-dateutil>=2.8.0->qiskit-terra==0.45.2->qiskit>=0.45.0->qiskit-aer) (1.16.0)\n",
      "Requirement already satisfied: pbr!=2.1.0,>=2.0.0 in d:\\anaconda\\lib\\site-packages (from stevedore>=3.0.0->qiskit-terra==0.45.2->qiskit>=0.45.0->qiskit-aer) (6.0.0)\n",
      "Requirement already satisfied: mpmath>=0.19 in d:\\anaconda\\lib\\site-packages (from sympy>=1.3->qiskit-terra==0.45.2->qiskit>=0.45.0->qiskit-aer) (1.3.0)\n",
      "Requirement already satisfied: qiskit-ibm-provider in d:\\anaconda\\lib\\site-packages (0.8.0)\n",
      "Requirement already satisfied: qiskit>=0.45.0 in d:\\anaconda\\lib\\site-packages (from qiskit-ibm-provider) (0.45.2)\n",
      "Requirement already satisfied: requests>=2.19 in d:\\anaconda\\lib\\site-packages (from qiskit-ibm-provider) (2.31.0)\n",
      "Requirement already satisfied: requests-ntlm>=1.1.0 in d:\\anaconda\\lib\\site-packages (from qiskit-ibm-provider) (1.2.0)\n",
      "Requirement already satisfied: numpy>=1.13 in d:\\anaconda\\lib\\site-packages (from qiskit-ibm-provider) (1.24.3)\n",
      "Requirement already satisfied: urllib3>=1.21.1 in d:\\anaconda\\lib\\site-packages (from qiskit-ibm-provider) (1.26.16)\n",
      "Requirement already satisfied: python-dateutil>=2.8.0 in d:\\anaconda\\lib\\site-packages (from qiskit-ibm-provider) (2.8.2)\n",
      "Requirement already satisfied: websocket-client>=1.5.1 in d:\\anaconda\\lib\\site-packages (from qiskit-ibm-provider) (1.7.0)\n",
      "Requirement already satisfied: websockets>=10.0 in d:\\anaconda\\lib\\site-packages (from qiskit-ibm-provider) (12.0)\n",
      "Requirement already satisfied: typing-extensions>=4.3 in d:\\anaconda\\lib\\site-packages (from qiskit-ibm-provider) (4.7.1)\n",
      "Requirement already satisfied: six>=1.5 in d:\\anaconda\\lib\\site-packages (from python-dateutil>=2.8.0->qiskit-ibm-provider) (1.16.0)\n",
      "Requirement already satisfied: qiskit-terra==0.45.2 in d:\\anaconda\\lib\\site-packages (from qiskit>=0.45.0->qiskit-ibm-provider) (0.45.2)\n",
      "Requirement already satisfied: rustworkx>=0.13.0 in d:\\anaconda\\lib\\site-packages (from qiskit-terra==0.45.2->qiskit>=0.45.0->qiskit-ibm-provider) (0.13.2)\n",
      "Requirement already satisfied: ply>=3.10 in d:\\anaconda\\lib\\site-packages (from qiskit-terra==0.45.2->qiskit>=0.45.0->qiskit-ibm-provider) (3.11)\n",
      "Requirement already satisfied: psutil>=5 in d:\\anaconda\\lib\\site-packages (from qiskit-terra==0.45.2->qiskit>=0.45.0->qiskit-ibm-provider) (5.9.0)\n",
      "Requirement already satisfied: scipy>=1.5 in d:\\anaconda\\lib\\site-packages (from qiskit-terra==0.45.2->qiskit>=0.45.0->qiskit-ibm-provider) (1.11.1)\n",
      "Requirement already satisfied: sympy>=1.3 in d:\\anaconda\\lib\\site-packages (from qiskit-terra==0.45.2->qiskit>=0.45.0->qiskit-ibm-provider) (1.11.1)\n",
      "Requirement already satisfied: dill>=0.3 in d:\\anaconda\\lib\\site-packages (from qiskit-terra==0.45.2->qiskit>=0.45.0->qiskit-ibm-provider) (0.3.6)\n",
      "Requirement already satisfied: stevedore>=3.0.0 in d:\\anaconda\\lib\\site-packages (from qiskit-terra==0.45.2->qiskit>=0.45.0->qiskit-ibm-provider) (5.1.0)\n",
      "Requirement already satisfied: charset-normalizer<4,>=2 in d:\\anaconda\\lib\\site-packages (from requests>=2.19->qiskit-ibm-provider) (2.0.4)\n",
      "Requirement already satisfied: idna<4,>=2.5 in d:\\anaconda\\lib\\site-packages (from requests>=2.19->qiskit-ibm-provider) (3.4)\n",
      "Requirement already satisfied: certifi>=2017.4.17 in d:\\anaconda\\lib\\site-packages (from requests>=2.19->qiskit-ibm-provider) (2023.11.17)\n",
      "Requirement already satisfied: cryptography>=1.3 in d:\\anaconda\\lib\\site-packages (from requests-ntlm>=1.1.0->qiskit-ibm-provider) (41.0.3)\n",
      "Requirement already satisfied: pyspnego>=0.1.6 in d:\\anaconda\\lib\\site-packages (from requests-ntlm>=1.1.0->qiskit-ibm-provider) (0.10.2)\n",
      "Requirement already satisfied: cffi>=1.12 in d:\\anaconda\\lib\\site-packages (from cryptography>=1.3->requests-ntlm>=1.1.0->qiskit-ibm-provider) (1.15.1)\n",
      "Requirement already satisfied: sspilib>=0.1.0 in d:\\anaconda\\lib\\site-packages (from pyspnego>=0.1.6->requests-ntlm>=1.1.0->qiskit-ibm-provider) (0.1.0)\n",
      "Requirement already satisfied: pycparser in d:\\anaconda\\lib\\site-packages (from cffi>=1.12->cryptography>=1.3->requests-ntlm>=1.1.0->qiskit-ibm-provider) (2.21)\n",
      "Requirement already satisfied: pbr!=2.1.0,>=2.0.0 in d:\\anaconda\\lib\\site-packages (from stevedore>=3.0.0->qiskit-terra==0.45.2->qiskit>=0.45.0->qiskit-ibm-provider) (6.0.0)\n",
      "Requirement already satisfied: mpmath>=0.19 in d:\\anaconda\\lib\\site-packages (from sympy>=1.3->qiskit-terra==0.45.2->qiskit>=0.45.0->qiskit-ibm-provider) (1.3.0)\n"
     ]
    }
   ],
   "source": [
    "!pip install qiskit\n",
    "!pip install pylatexenc\n",
    "!pip install qiskit-aer\n",
    "!pip install qiskit-ibm-provider"
   ]
  },
  {
   "cell_type": "markdown",
   "id": "1e69befe-4e9b-45fc-8780-baff1bdfeb04",
   "metadata": {},
   "source": [
    "Then we import the packages and tools that we need for this tutorial."
   ]
  },
  {
   "cell_type": "code",
   "execution_count": 2,
   "id": "e2cb0472",
   "metadata": {
    "tags": []
   },
   "outputs": [],
   "source": [
    "# Built-in modules\n",
    "import math\n",
    "\n",
    "# Imports from Qiskit\n",
    "from qiskit import QuantumCircuit\n",
    "from qiskit import QuantumRegister, ClassicalRegister"
   ]
  },
  {
   "cell_type": "markdown",
   "id": "1ab31ab5-af26-40a0-aa0f-1a6363798f52",
   "metadata": {},
   "source": [
    "For example, let's assume the qubit number is $n=3$ and the problem size is $N=2^3=8$ as a small example. For simplicity, we assume the set is composed of eight binary strings $\\{000, 001, 010, 011, 100, 101, 110, 111\\}$. These eight strings have a natural correspondance to the three-qubit quantum computational basis set $\\{|000\\rangle, |001\\rangle, |010\\rangle， |011\\rangle， |100\\rangle， |101\\rangle， |110\\rangle， |111\\rangle\\}$. Let’s assume for now that only one string $x_0 \\in \\{000, 001, 010, 011, 100, 101, 110, 111\\}$ satisfies $f(x)=f(x_0)=1$ while $f(x) = 0$ for any other $x \\neq x_0 \\in \\{000, 001, 010, 011, 100, 101, 110, 111\\}$  and our task is to find that string $x_0$. So we can create a quantum circuit with only three qubits and three classical bits as a small example."
   ]
  },
  {
   "cell_type": "code",
   "execution_count": 3,
   "id": "c8d99189-8b28-4033-943f-ea40f11daa28",
   "metadata": {
    "tags": []
   },
   "outputs": [],
   "source": [
    "n = 3\n",
    "q = QuantumRegister(n,'q')\n",
    "c = ClassicalRegister(n,'c')\n",
    "groverCircuit = QuantumCircuit(q,c)"
   ]
  },
  {
   "cell_type": "markdown",
   "id": "6174a7fa-0d8d-4e3c-b027-ffc471691b94",
   "metadata": {},
   "source": [
    "## Algorithm <a id='algorithm'></a>\n",
    "The algorithm can be broken down into the following steps:\n",
    "1. Prepare the initial state\n",
    "2. Implement an oracle that can access the function $f(x)$ as a reflection\n",
    "3. Apply the Grover diffusion operator\n",
    "4. Repeat steps 2 and 3 approximately $\\frac{\\pi}{4}\\sqrt{N}$ times and perform measurements\n",
    "5. Run the program with simulators and quantum devices"
   ]
  },
  {
   "cell_type": "markdown",
   "id": "30714876-cde8-4283-9b87-d61615e69cf7",
   "metadata": {},
   "source": [
    "### Step 1: prepare the initial state <a id='algPrepare'></a>\n",
    "To perform the search, we are going to create an $n$-dimensional system, which has $N=2^n$ computational basis states, represented via $N$ binary numbers. More specifically, bit strings with length $n$, labelled as $x_0,x_1,\\dots,x_{N-1}$. We initialize the system in the uniform superposition over all states, i.e., the amplitudes associated with each of the basis states are equal to\n",
    "$$|s_n\\rangle=\\frac{1}{\\sqrt{N}}\\sum_{x=0}^{N-1}|x\\rangle.$$\n",
    "Basically, for the three qubit example, the superposition state is given by $|s_3\\rangle=\\frac{1}{\\sqrt{8}}\\sum_{x=0}^{8-1}|x\\rangle = \\frac{1}{\\sqrt{8}}(|000\\rangle + |001\\rangle + |010\\rangle + |011\\rangle + |100\\rangle + |101\\rangle + |110\\rangle + |111\\rangle)$. This can be achieved by applying a Hadamard gate `H` to each wire in the circuit."
   ]
  },
  {
   "cell_type": "code",
   "execution_count": 4,
   "id": "6dd3ad05-8e53-491a-a226-e9358bbf3d2a",
   "metadata": {
    "tags": []
   },
   "outputs": [
    {
     "data": {
      "image/png": "[encoded data removed]",
      "text/plain": [
       "<Figure size 203.885x367.889 with 1 Axes>"
      ]
     },
     "execution_count": 4,
     "metadata": {},
     "output_type": "execute_result"
    }
   ],
   "source": [
    "groverCircuit.h(q)\n",
    "groverCircuit.draw(output='mpl', style=\"iqp\")"
   ]
  },
  {
   "cell_type": "markdown",
   "id": "558cfca3-0dd9-43dd-b7a4-fcb448be5931",
   "metadata": {},
   "source": [
    "### Step 2: implement an oracle that can access the function $f(x)$ as a reflection <a id='algGrover'></a>"
   ]
  },
  {
   "cell_type": "markdown",
   "id": "6d7ae4aa-a7f3-42e4-806d-e5148b8f7618",
   "metadata": {},
   "source": [
    "Let’s assume for now that only one index satisfies $f(x)=1$. We are going to call this index $x_0$. To access $f(x)$ with an oracle, we can formulate a unitary operator $U_{f}$ such that $U_{f} | x \\rangle = (-1)^{f(x)} | x \\rangle$. To be specific,\n",
    "\n",
    "$$\\begin{cases} U_{f} | x \\rangle = - |x\\rangle, \\text{ for } x=x_0 \\text{ such that } f(x) = f(x_0) = 1, \\\\ U_{f} | x \\rangle = |x\\rangle, \\text{ for } x \\neq x_0 \\text{ such that } f(x) = 0, \\end{cases}$$\n",
    "\n",
    "where $U_{f}$ acts by flipping the phase of the solution state while keeping the remaining states untouched. In other words, the unitary $U_{f}$ can be written as\n",
    "$$U_{f} = I - 2 |x_0\\rangle \\langle x_0|.$$\n",
    "\n",
    "Assume the solution string is $x_0=111$ for the above example. Let's dub the quantum state $|w\\rangle = |x_0\\rangle = |111\\rangle$ that corresponds to the solution string as the **winner state**. And let's dub the quantum state $|b\\rangle = \\frac{1}{\\sqrt{7}}(|000\\rangle + |001\\rangle + |010\\rangle + |011\\rangle + |100\\rangle + |101\\rangle + |110\\rangle)$ that is composed of all other states as **bad state**. Then this oracle $U_{f}$ realizes the function given by\n",
    "\n",
    "$$\\begin{cases} U_{f} | x \\rangle = - |x\\rangle, \\text{ for } |x\\rangle = |w\\rangle, \\\\ U_{f} | x \\rangle = |x\\rangle, \\text{ for } |x\\rangle = |b\\rangle , \\end{cases}$$\n",
    "\n",
    "This can be recarded as a reflection operation over the reference state $|b\\rangle$. By reflection, it means that the amplitude of the reference state $|b\\rangle$ remains unchangled while the sign of the amplitude of orthogonal state is flipped. The reflection operation will also be used in the next step.\n",
    " \n",
    "**figure1**\n",
    "\n",
    "The three-qubit state $|s_3\\rangle$ is given by the superposition of winner state and bad state such that $|s_3\\rangle=\\frac{1}{\\sqrt{8}} |w\\rangle + \\frac{\\sqrt{7}}{\\sqrt{8}} |b\\rangle$. Apply the oracle $U_f$ to the superposition state gives a new quantum state of $$U_{f}|s_3\\rangle = - \\frac{1}{\\sqrt{8}} |w\\rangle + \\frac{\\sqrt{7}}{\\sqrt{8}} |b\\rangle.$$\n",
    "\n",
    "\n",
    "\n",
    "This operation can be achieved by applying a Controlled Controlled Z (`CCZ`) operation that flips the state $|111\\rangle$ to $-|111\\rangle$ while remaining the other states unchanged.\n",
    "$$\\begin{cases} [CCZ] | x \\rangle = - |x\\rangle, \\text{ for } |x\\rangle=|111\\rangle, \\\\ [CCZ] | x \\rangle = |x\\rangle, \\text{ for } |x\\rangle \\neq |111\\rangle, \\end{cases}$$\n",
    "\n"
   ]
  },
  {
   "cell_type": "code",
   "execution_count": 5,
   "id": "3648a480-3f67-4cac-9506-a050958c3009",
   "metadata": {
    "tags": []
   },
   "outputs": [
    {
     "data": {
      "image/png": "[encoded data removed]",
      "text/plain": [
       "<Figure size 287.496x367.889 with 1 Axes>"
      ]
     },
     "execution_count": 5,
     "metadata": {},
     "output_type": "execute_result"
    }
   ],
   "source": [
    "# Oracle operator\n",
    "groverCircuit.ccz(q[0], q[1], q[2])\n",
    "groverCircuit.draw(output='mpl', style=\"iqp\")"
   ]
  },
  {
   "cell_type": "markdown",
   "id": "e91efecf-dbe6-419e-9388-1f97f17068bd",
   "metadata": {},
   "source": [
    "### Step 3: apply the Grover diffusion operator <a id='algDiffusion'></a>"
   ]
  },
  {
   "cell_type": "markdown",
   "id": "014adb6d-24b8-4d8f-8ba9-4215711f2a0b",
   "metadata": {},
   "source": [
    "We now apply an additional reflection $U_{d}$ which is named as Grover diffusion operator. This operator is basically a reflection similar to the case as we discussed in the previous step, but simply changes the reference state $|b\\rangle$ to the state $|s_3\\rangle$. By reflection, it means that the amplitude of the reference state $|s_3\\rangle$ remains unchangled while the sign of the amplitude of orthogonal state is flipped. Denote the quantum state that is orthogonal to $|s_3\\rangle$ by $|s_3\\rangle^{\\perp}$. This operation realizes the function given by  \n",
    "$$\\begin{cases} U_{d} | x \\rangle = - |x\\rangle, \\text{ for } |x\\rangle = |s_3\\rangle^{\\perp}, \\\\ U_{d} | x \\rangle = |x\\rangle, \\text{ for } |x\\rangle = |s_3\\rangle , \\end{cases}$$\n",
    "Similarly, this unitary $U_{d}$ can be written as\n",
    "$$U_{d} = I - 2 |s_3\\rangle^{\\perp} \\langle s_3|^{\\perp}.$$\n",
    "In the previous step, we decomposed $|s_3\\rangle$ by the superposition of winner state and bad state $|s_3\\rangle=\\frac{1}{\\sqrt{8}} |w\\rangle + \\frac{\\sqrt{7}}{\\sqrt{8}} |b\\rangle$. So we can also decompose the orthogonal state $|s_3\\rangle^{\\perp}$ by the superposition of winner state and bad state $|s_3\\rangle^{\\perp}=-\\frac{\\sqrt{7}}{\\sqrt{8}} |w\\rangle + \\frac{1}{\\sqrt{8}} |b\\rangle$. So the diffusion unitary operator can also be decomposed using winner state and bad state such that\n",
    "$$U_{d}=I - 2 |s_3\\rangle^{\\perp} \\langle s_3|^{\\perp} = I - \\frac{7}{4} |w\\rangle \\langle w| + \\frac{\\sqrt{7}}{4} |w\\rangle \\langle b| + \\frac{\\sqrt{7}}{4} |b\\rangle \\langle w| - \\frac{1}{4} |b\\rangle \\langle b|.$$\n",
    "Apply the Grover diffusion operator $U_d$ to the state $U_{f}|s_3\\rangle$ gives us a new state of $$U_dU_{f}|s_3\\rangle=\\frac{5}{2}\\frac{1}{\\sqrt{8}}|w\\rangle + \\frac{1}{2}\\frac{\\sqrt{7}}{\\sqrt{8}}|b\\rangle.$$\n",
    "\n",
    "**figure2**\n",
    "\n",
    "Now let's think about the circuit implementation of this Grover diffusion operator $U_d$. Recall that in the previous step, we use the Controlled Controlled Z (`CCZ`) operation to flip the state $|111\\rangle$ to $-|111\\rangle$ while remaining the other states unchanged. In quantum computation, the global phase of a quantum state does not matter for the task, as in most cases we only care about the density matrix or expectation value. So in the quantum computation scenario, we regard two quantum states with the only difference in global phase as the same quantum state, i.e. $|\\psi\\rangle \\equiv e^{i\\phi}|\\psi\\rangle$, for any $\\phi \\in [0, 2 \\pi)$. As a special case of $\\phi=\\pi$, the quantum state $|\\psi\\rangle \\equiv e^{i\\pi}|\\psi\\rangle = -|\\psi\\rangle.$ So back to our discussion, if we extract a global phase of $e^{i\\pi}$ out of the quantum state, we can also regard the `CCZ` operation as to remian the state $|111\\rangle$ unchanged but flip all the signs of amplitude of the other states. Basically,\n",
    "$$\\begin{cases} [CCZ] | x \\rangle = - |x\\rangle, \\text{ for } |x\\rangle=|111\\rangle, \\\\ [CCZ] | x \\rangle = |x\\rangle, \\text{ for } |x\\rangle \\neq |111\\rangle, \\end{cases} \\quad \\equiv \\quad \\begin{cases} [CCZ] | x \\rangle = |x\\rangle, \\text{ for } |x\\rangle=|111\\rangle, \\\\ [CCZ] | x \\rangle = - |x\\rangle, \\text{ for } |x\\rangle \\neq |111\\rangle, \\end{cases} $$\n",
    "up to a global phase of $e^{i\\pi}$. This inspires us to explore about some modifications based on this magic `CCZ` gate. If we add two layer of X gates and Hadamard gates before and after the operation of `CCZ` gate sequentially to all the qubits, we can have the operation $H^{\\otimes 3} X^{\\otimes 3} [CCZ] X^{\\otimes 3}H^{\\otimes 3}$ composed of `X` gates, `H` gates, and `CCZ` gates. Recall the basic quantum gates `X` and `H` are given by\n",
    "$$X|0\\rangle = |1\\rangle, X|1\\rangle = |0\\rangle, X|+\\rangle = |+\\rangle, X|-\\rangle = -|-\\rangle;$$\n",
    "$$H|0\\rangle = |+\\rangle, H|1\\rangle = |-\\rangle, H|+\\rangle = |0\\rangle, H|-\\rangle = |1\\rangle,$$\n",
    "where $|+\\rangle=\\frac{1}{\\sqrt{2}}(|0\\rangle + |1\\rangle)$ is the plus state and $|-\\rangle=\\frac{1}{\\sqrt{2}}(|0\\rangle - |1\\rangle)$ is the minus state. We can verify that the operation $H^{\\otimes 3} X^{\\otimes 3} [CCZ] X^{\\otimes 3}H^{\\otimes 3}$ realizes the function given by\n",
    "$$\\begin{cases} H^{\\otimes 3} X^{\\otimes 3} [CCZ] X^{\\otimes 3}H^{\\otimes 3} | x \\rangle = |x\\rangle, \\text{ for } |x\\rangle = |+\\rangle^{\\otimes 3}, \\\\ H^{\\otimes 3} X^{\\otimes 3} [CCZ] X^{\\otimes 3}H^{\\otimes 3} | x \\rangle = - |x\\rangle, \\text{ for } |x\\rangle \\neq |+\\rangle^{\\otimes 3}, \\end{cases}$$"
   ]
  },
  {
   "cell_type": "code",
   "execution_count": 6,
   "id": "d2433396-a44d-41c5-8b37-98e41bb040c9",
   "metadata": {
    "tags": []
   },
   "outputs": [
    {
     "data": {
      "image/png": "[encoded data removed]",
      "text/plain": [
       "<Figure size 705.552x367.889 with 1 Axes>"
      ]
     },
     "execution_count": 6,
     "metadata": {},
     "output_type": "execute_result"
    }
   ],
   "source": [
    "# Diffusion operator\n",
    "groverCircuit.h(q)\n",
    "groverCircuit.x(q)\n",
    "groverCircuit.ccz(q[0], q[1], q[2])\n",
    "groverCircuit.x(q)\n",
    "groverCircuit.h(q)\n",
    "groverCircuit.draw(output='mpl', style=\"iqp\")"
   ]
  },
  {
   "cell_type": "markdown",
   "id": "a1f25010-7c78-474a-aec8-1c5c673046f4",
   "metadata": {},
   "source": [
    "### Step 4: repeat steps 2 and 3 approximately $\\frac{\\pi}{4}\\sqrt{N}$ times and perform measurements <a id='algRepeat'></a>"
   ]
  },
  {
   "cell_type": "markdown",
   "id": "30ebc591-fc2b-4833-83df-e7be53c243f7",
   "metadata": {},
   "source": [
    "Compare the state $U_dU_f|s_3\\rangle=\\frac{5}{2}\\frac{1}{\\sqrt{8}}|w\\rangle + \\frac{1}{2}\\frac{\\sqrt{7}}{\\sqrt{8}}|b\\rangle$ to the original state $|s_3\\rangle=\\frac{1}{\\sqrt{8}} |w\\rangle + \\frac{\\sqrt{7}}{\\sqrt{8}} |b\\rangle$. We can notice that the amplitude of the winner state $|w\\rangle$ increases after applying the Grover oracle $U_f$ and the diffucion operator $U_d$. Our goal for the problem is to make the state evolve to the solution eventually. We can derive how many times do we need in order to get the winner state. Notice that each time after the Grover oracle $U_f$ and the diffucion operator $U_d$, the quantum state is rotated towards the winner state by the angle of $2\\theta$, where $\\theta = \\arcsin{\\frac{1}{\\sqrt{N}}}$. When the size of the dataset $N$ is large, the angle is approximately calculated by $\\theta = \\arcsin{\\frac{1}{\\sqrt{N}}}\\approx \\frac{1}{\\sqrt{N}}$. Assume we iterate the Grover oracle and diffusion operator for $k$ times in order to rotate the initial state to the winner state by the angle of $\\frac{\\pi}{2}$. Then $k$ is obtained by $2\\theta \\times k = \\frac{\\pi}{2}$ such that $k = \\frac{\\pi}{4}\\sqrt{N}.$ So after $k = \\frac{\\pi}{4}\\sqrt{N}$ iterations of the algorithm, we can get the solution as the winner state $|w\\rangle$.\n",
    "\n",
    "\n",
    "\n",
    "\n"
   ]
  },
  {
   "cell_type": "markdown",
   "id": "8a3bb906-5d44-4c45-a7e5-2918c5b81d2a",
   "metadata": {},
   "source": [
    "For the above example of $N=8$, we can iterate the algorithm for $2$ times and then measure all the qubits. By computing the statistics of measurement output, we can have a probability distribution such that the probability of bit string `111` is the highest."
   ]
  },
  {
   "cell_type": "code",
   "execution_count": 7,
   "id": "52671df7-19b8-4e93-8ef4-0f8e79b504e0",
   "metadata": {
    "tags": []
   },
   "outputs": [
    {
     "data": {
      "image/png": "[encoded data removed]",
      "text/plain": [
       "<Figure size 1458.05x367.889 with 1 Axes>"
      ]
     },
     "execution_count": 7,
     "metadata": {},
     "output_type": "execute_result"
    }
   ],
   "source": [
    "# Repeat the oracle and diffusion operator one more time and measure the output\n",
    "\n",
    "# Oracle operator\n",
    "groverCircuit.ccz(q[0], q[1], q[2])\n",
    "\n",
    "# Diffusion operator\n",
    "groverCircuit.h(q)\n",
    "groverCircuit.x(q)\n",
    "groverCircuit.ccz(q[0], q[1], q[2])\n",
    "groverCircuit.x(q)\n",
    "groverCircuit.h(q)\n",
    "\n",
    "# Measurement\n",
    "groverCircuit.measure(q, c)\n",
    "\n",
    "groverCircuit.draw(output='mpl', style=\"iqp\")"
   ]
  },
  {
   "cell_type": "markdown",
   "id": "5e1704d4-bf20-47e8-b9ae-e3977733a068",
   "metadata": {},
   "source": [
    "### Step 5: run the program with simulators and quantum devices <a id='algExecute'></a>\n",
    "Now we have elaborated every details of Grover search algorithm and designed the circuit for implementation. It's time to execute our program with `Aer` simulator and quantum hardware on IBM Quantum platform."
   ]
  },
  {
   "cell_type": "code",
   "execution_count": 8,
   "id": "3d0fad18-b649-44e5-9595-0c17aae52d37",
   "metadata": {
    "tags": []
   },
   "outputs": [
    {
     "name": "stdout",
     "output_type": "stream",
     "text": [
      "{'111': 973, '011': 8, '110': 5, '000': 6, '010': 8, '100': 9, '101': 10, '001': 5}\n"
     ]
    }
   ],
   "source": [
    "# Run the program and get results by simulators\n",
    "from qiskit import transpile\n",
    "from qiskit_aer import AerSimulator\n",
    "\n",
    "# Get the backend for simulation\n",
    "simulatorBackend = AerSimulator()\n",
    "\n",
    "# Before we run the circuit, we need to transpile the circuit to match the backend structure\n",
    "transpiledGrovercircuit = transpile(groverCircuit, simulatorBackend)\n",
    "\n",
    "# Run job\n",
    "shots = 1024\n",
    "job = simulatorBackend.run(transpiledGrovercircuit, shots=shots)\n",
    "\n",
    "# Get the result and print the counts\n",
    "result = job.result()\n",
    "count = result.get_counts()\n",
    "print(count)"
   ]
  },
  {
   "cell_type": "code",
   "execution_count": 9,
   "id": "8edecff5-0ad7-4e62-a0f0-4993d13b6ea1",
   "metadata": {
    "tags": []
   },
   "outputs": [
    {
     "data": {
      "image/png": "[encoded data removed]",
      "text/plain": [
       "<Figure size 700x500 with 1 Axes>"
      ]
     },
     "execution_count": 9,
     "metadata": {},
     "output_type": "execute_result"
    }
   ],
   "source": [
    "from qiskit.visualization import plot_histogram\n",
    "plot_histogram(count)"
   ]
  },
  {
   "cell_type": "markdown",
   "id": "3c1a4ae7-3ad4-4352-94ee-77905d039da6",
   "metadata": {},
   "source": [
    "We can see from the figure that the bit string `111` has the highest probability which corresponds to our solution. Alternatively, we can also run the program using real quantum devices from IBM Quantum platform."
   ]
  },
  {
   "cell_type": "code",
   "execution_count": null,
   "id": "d80c1d40-683d-46ed-9753-c6e6ab523967",
   "metadata": {
    "tags": []
   },
   "outputs": [],
   "source": [
    "# # Run the program and get results by quantum hardware\n",
    "# from qiskit import transpile\n",
    "# from qiskit_ibm_provider import IBMProvider\n",
    "\n",
    "# # Get the backend for quantum execution\n",
    "# provider = IBMProvider()\n",
    "# hub = \"ibm-q\"\n",
    "# group = \"open\"\n",
    "# project = \"main\"\n",
    "# quantumBackend = provider.get_backend('ibmq_qasm_simulator', instance=f\"{hub}/{group}/{project}\")\n",
    "\n",
    "# # Before we run the circuit, we need to transpile the circuit to match the backend structure\n",
    "# transpiledGrovercircuit = transpile(groverCircuit, quantumBackend)\n",
    "\n",
    "# # Run job\n",
    "# shots = 1024\n",
    "# job = quantumBackend.run(transpiledGrovercircuit, shots=shots)\n",
    "# jobID = job.job_id()\n",
    "# print(jobID)"
   ]
  },
  {
   "cell_type": "code",
   "execution_count": null,
   "id": "1b85a597-6d4f-4328-be85-994e6e645209",
   "metadata": {},
   "outputs": [],
   "source": [
    "# # Check the status\n",
    "# jobStatus = provider.retrieve_job(jobID).status()"
   ]
  },
  {
   "cell_type": "code",
   "execution_count": null,
   "id": "461f716b-fe03-441c-8838-1acae6e4d83a",
   "metadata": {},
   "outputs": [],
   "source": [
    "# retreiveJob = provider.retrieve_job(jobID)\n",
    "# result = retreiveJob.result()\n",
    "# count = result.get_counts()\n",
    "# print(count)"
   ]
  },
  {
   "cell_type": "code",
   "execution_count": null,
   "id": "29b9fae2-59d7-4ffc-afd8-413e4c4ac67b",
   "metadata": {},
   "outputs": [],
   "source": []
  },
  {
   "cell_type": "code",
   "execution_count": null,
   "id": "ef55bfce-4848-46ce-ade5-ba0942b6be91",
   "metadata": {},
   "outputs": [],
   "source": []
  },
  {
   "cell_type": "code",
   "execution_count": null,
   "id": "465a0f59-2302-4f23-870d-0059e466e552",
   "metadata": {},
   "outputs": [],
   "source": []
  },
  {
   "cell_type": "code",
   "execution_count": null,
   "id": "d6621197-e9d4-46d7-8f8f-d9b02be77701",
   "metadata": {},
   "outputs": [],
   "source": []
  },
  {
   "cell_type": "code",
   "execution_count": null,
   "id": "6220685e-99cc-48f7-a3b4-f3cc6694db76",
   "metadata": {},
   "outputs": [],
   "source": []
  },
  {
   "cell_type": "code",
   "execution_count": null,
   "id": "b863c7bb-0076-47df-9aa1-cb96fe85e66f",
   "metadata": {},
   "outputs": [],
   "source": []
  },
  {
   "cell_type": "code",
   "execution_count": null,
   "id": "26e3332b-ea9d-4839-ac26-ae9934bd7873",
   "metadata": {},
   "outputs": [],
   "source": []
  },
  {
   "cell_type": "code",
   "execution_count": null,
   "id": "c76f2f51-fbc8-4a43-9f74-69509bea9111",
   "metadata": {},
   "outputs": [],
   "source": []
  },
  {
   "cell_type": "code",
   "execution_count": null,
   "id": "c770bf9a-2407-4540-ac93-ddf82239cc1b",
   "metadata": {},
   "outputs": [],
   "source": []
  },
  {
   "cell_type": "code",
   "execution_count": null,
   "id": "7959046c-24b1-44f7-9eca-92dd190015a4",
   "metadata": {},
   "outputs": [],
   "source": []
  },
  {
   "cell_type": "code",
   "execution_count": null,
   "id": "0d8110e9-6901-458e-9293-78206b8c668e",
   "metadata": {},
   "outputs": [],
   "source": []
  },
  {
   "cell_type": "code",
   "execution_count": null,
   "id": "2811a27b-12de-4b0e-89dd-0488a547c744",
   "metadata": {},
   "outputs": [],
   "source": []
  },
  {
   "cell_type": "code",
   "execution_count": null,
   "id": "8520a3bc-2c71-4455-88a6-a7a36299bb91",
   "metadata": {},
   "outputs": [],
   "source": []
  },
  {
   "cell_type": "code",
   "execution_count": null,
   "id": "d546cb76-5875-4b5f-b8fb-fb3d65dab542",
   "metadata": {},
   "outputs": [],
   "source": []
  },
  {
   "cell_type": "code",
   "execution_count": null,
   "id": "3a9dab23-8fa0-43a4-866c-a3089885eaa5",
   "metadata": {},
   "outputs": [],
   "source": []
  },
  {
   "cell_type": "code",
   "execution_count": null,
   "id": "b80df500-6e47-49fa-a082-5f410fe61f58",
   "metadata": {},
   "outputs": [],
   "source": []
  },
  {
   "cell_type": "code",
   "execution_count": null,
   "id": "f33026ba-1745-45d6-8a7d-bededdaa5c9a",
   "metadata": {},
   "outputs": [],
   "source": []
  },
  {
   "cell_type": "code",
   "execution_count": null,
   "id": "917eba9e-0fab-45e7-8950-8f865e527c50",
   "metadata": {},
   "outputs": [],
   "source": []
  },
  {
   "cell_type": "code",
   "execution_count": null,
   "id": "f3310fac-9c3f-46f5-9af6-db28fba19ff0",
   "metadata": {},
   "outputs": [],
   "source": []
  },
  {
   "cell_type": "code",
   "execution_count": null,
   "id": "e61bd814-2c27-4c02-9441-fba4ee797d8c",
   "metadata": {},
   "outputs": [],
   "source": []
  },
  {
   "cell_type": "code",
   "execution_count": null,
   "id": "e9b11001-8136-499b-98ce-db47eecb95b6",
   "metadata": {},
   "outputs": [],
   "source": []
  }
 ],
 "metadata": {
  "kernelspec": {
   "display_name": "Python 3 (ipykernel)",
   "language": "python",
   "name": "python3"
  },
  "language_info": {
   "codemirror_mode": {
    "name": "ipython",
    "version": 3
   },
   "file_extension": ".py",
   "mimetype": "text/x-python",
   "name": "python",
   "nbconvert_exporter": "python",
   "pygments_lexer": "ipython3",
   "version": "3.11.5"
  },
  "widgets": {
   "application/vnd.jupyter.widget-state+json": {
    "state": {},
    "version_major": 2,
    "version_minor": 0
   }
  }
 },
 "nbformat": 4,
 "nbformat_minor": 5
}
